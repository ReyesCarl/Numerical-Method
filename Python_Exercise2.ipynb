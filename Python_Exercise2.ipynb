{
  "nbformat": 4,
  "nbformat_minor": 0,
  "metadata": {
    "colab": {
      "name": "Python_Exercise2.ipynb",
      "provenance": [],
      "authorship_tag": "ABX9TyP/jY4NaM6WDP3PtJYSlkq4",
      "include_colab_link": true
    },
    "kernelspec": {
      "name": "python3",
      "display_name": "Python 3"
    },
    "language_info": {
      "name": "python"
    }
  },
  "cells": [
    {
      "cell_type": "markdown",
      "metadata": {
        "id": "view-in-github",
        "colab_type": "text"
      },
      "source": [
        "<a href=\"https://colab.research.google.com/github/ReyesCarl/Numerical-Method/blob/main/Python_Exercise2.ipynb\" target=\"_parent\"><img src=\"https://colab.research.google.com/assets/colab-badge.svg\" alt=\"Open In Colab\"/></a>"
      ]
    },
    {
      "cell_type": "markdown",
      "metadata": {
        "id": "vwUCj1G9f5on"
      },
      "source": [
        "#Reyes, Carl Vincent G. \n",
        "###Matrix and Its Operations"
      ]
    },
    {
      "cell_type": "code",
      "metadata": {
        "id": "awWK7lS8fy73"
      },
      "source": [
        "import numpy as np"
      ],
      "execution_count": 1,
      "outputs": []
    },
    {
      "cell_type": "code",
      "metadata": {
        "id": "7qi-vVaHgCna"
      },
      "source": [
        "A = np.array([[-5,0],\n",
        "     [4,2]])"
      ],
      "execution_count": 13,
      "outputs": []
    },
    {
      "cell_type": "code",
      "metadata": {
        "id": "5ImwAHzMgzM9"
      },
      "source": [
        "B = np.array([[6,-3],\n",
        "     [2,3]])"
      ],
      "execution_count": 3,
      "outputs": []
    },
    {
      "cell_type": "code",
      "metadata": {
        "colab": {
          "base_uri": "https://localhost:8080/"
        },
        "id": "kBp17UVjg4b8",
        "outputId": "fee9e8e0-a4cc-48b7-fdbf-f662efe8827c"
      },
      "source": [
        "C = A+B\n",
        "print(C)"
      ],
      "execution_count": 14,
      "outputs": [
        {
          "output_type": "stream",
          "name": "stdout",
          "text": [
            "[[ 1 -3]\n",
            " [ 6  5]]\n"
          ]
        }
      ]
    },
    {
      "cell_type": "code",
      "metadata": {
        "colab": {
          "base_uri": "https://localhost:8080/"
        },
        "id": "TnMM_c89g7wb",
        "outputId": "4e3a3beb-73d8-4f1f-c6bd-00057ac67c1d"
      },
      "source": [
        "D = B - A\n",
        "print(D)"
      ],
      "execution_count": 16,
      "outputs": [
        {
          "output_type": "stream",
          "name": "stdout",
          "text": [
            "[[11 -3]\n",
            " [-2  1]]\n"
          ]
        }
      ]
    },
    {
      "cell_type": "code",
      "metadata": {
        "colab": {
          "base_uri": "https://localhost:8080/"
        },
        "id": "lmQFM7JFhg6X",
        "outputId": "22f49592-feed-4369-c3b8-aee9b3102ed4"
      },
      "source": [
        "E = A-B\n",
        "print(E)"
      ],
      "execution_count": 17,
      "outputs": [
        {
          "output_type": "stream",
          "name": "stdout",
          "text": [
            "[[-11   3]\n",
            " [  2  -1]]\n"
          ]
        }
      ]
    },
    {
      "cell_type": "code",
      "metadata": {
        "id": "KMLaCJzThpXF"
      },
      "source": [
        ""
      ],
      "execution_count": null,
      "outputs": []
    }
  ]
}