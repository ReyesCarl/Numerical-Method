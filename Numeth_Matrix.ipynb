{
  "nbformat": 4,
  "nbformat_minor": 0,
  "metadata": {
    "colab": {
      "name": "Numeth_Matrix.ipynb",
      "provenance": [],
      "authorship_tag": "ABX9TyO1d/ldP7IFVkzy1FvP58j2",
      "include_colab_link": true
    },
    "kernelspec": {
      "name": "python3",
      "display_name": "Python 3"
    },
    "language_info": {
      "name": "python"
    }
  },
  "cells": [
    {
      "cell_type": "markdown",
      "metadata": {
        "id": "view-in-github",
        "colab_type": "text"
      },
      "source": [
        "<a href=\"https://colab.research.google.com/github/ReyesCarl/Numerical-Method/blob/main/Numeth_Matrix.ipynb\" target=\"_parent\"><img src=\"https://colab.research.google.com/assets/colab-badge.svg\" alt=\"Open In Colab\"/></a>"
      ]
    },
    {
      "cell_type": "markdown",
      "metadata": {
        "id": "BJEoaW3kTobO"
      },
      "source": [
        "#Numerical Method\n",
        "###Matrix and its operation\n",
        "###Reyes, Carl Vincent G.\n",
        "####8/31/2021\n",
        "\n",
        "\n",
        "\n"
      ]
    },
    {
      "cell_type": "code",
      "metadata": {
        "id": "bCJ86dttTkMg"
      },
      "source": [
        "import numpy as np"
      ],
      "execution_count": 1,
      "outputs": []
    },
    {
      "cell_type": "code",
      "metadata": {
        "colab": {
          "base_uri": "https://localhost:8080/"
        },
        "id": "Aynvr0NEUcH-",
        "outputId": "22591eca-ee6b-43cc-97f3-ecffc4dfadbe"
      },
      "source": [
        "a = np.array([1,2,3]) #This is a 1x3 array\n",
        "print(a)"
      ],
      "execution_count": 3,
      "outputs": [
        {
          "output_type": "stream",
          "name": "stdout",
          "text": [
            "[1 2 3]\n"
          ]
        }
      ]
    },
    {
      "cell_type": "code",
      "metadata": {
        "colab": {
          "base_uri": "https://localhost:8080/"
        },
        "id": "X0Qo0WJxUvhp",
        "outputId": "321eb40f-5bdc-471a-ee27-abcf1f357cbf"
      },
      "source": [
        "b = np.array([[1,2,3],[4,5,6]]) #This is a 2x3 matrix \n",
        "b [0,0] = 8\n",
        "print(\"b = \"  +str(b))\n",
        "print(\"The shape of a is \" + str(a.shape))\n",
        "print(b.shape)"
      ],
      "execution_count": 13,
      "outputs": [
        {
          "output_type": "stream",
          "name": "stdout",
          "text": [
            "b = [[8 2 3]\n",
            " [4 5 6]]\n",
            "The shape of a is (3,)\n",
            "(2, 3)\n"
          ]
        }
      ]
    },
    {
      "cell_type": "code",
      "metadata": {
        "colab": {
          "base_uri": "https://localhost:8080/"
        },
        "id": "CfKxlrt6VQWQ",
        "outputId": "d0456cbc-9120-48f0-a883-5e2ef37c071e"
      },
      "source": [
        "c = np.array([[1,2,3],[4,5,6],[7,8,9]]) #A 3x3 matrix\n",
        "print(c)"
      ],
      "execution_count": 16,
      "outputs": [
        {
          "output_type": "stream",
          "name": "stdout",
          "text": [
            "[[1 2 3]\n",
            " [4 5 6]\n",
            " [7 8 9]]\n"
          ]
        }
      ]
    },
    {
      "cell_type": "code",
      "metadata": {
        "colab": {
          "base_uri": "https://localhost:8080/"
        },
        "id": "q2o0fKPDW8BF",
        "outputId": "a5750cbe-2608-4018-c752-a9c034cc3478"
      },
      "source": [
        "d = np.full((2,2),5)\n",
        "print(d)"
      ],
      "execution_count": 18,
      "outputs": [
        {
          "output_type": "stream",
          "name": "stdout",
          "text": [
            "[[5 5]\n",
            " [5 5]]\n"
          ]
        }
      ]
    },
    {
      "cell_type": "code",
      "metadata": {
        "colab": {
          "base_uri": "https://localhost:8080/"
        },
        "id": "ZnGhp3reYZTE",
        "outputId": "c32695b3-883d-4950-d60f-7ed8a93bba1d"
      },
      "source": [
        "e = np.eye(2)\n",
        "print(e)"
      ],
      "execution_count": 19,
      "outputs": [
        {
          "output_type": "stream",
          "name": "stdout",
          "text": [
            "[[1. 0.]\n",
            " [0. 1.]]\n"
          ]
        }
      ]
    },
    {
      "cell_type": "code",
      "metadata": {
        "colab": {
          "base_uri": "https://localhost:8080/"
        },
        "id": "ftjI1lL4YelO",
        "outputId": "29ab2a9e-e4a8-4c46-9e0b-91874870f35e"
      },
      "source": [
        "f = c\n",
        "f = np.diagonal(f)\n",
        "print(f)"
      ],
      "execution_count": 25,
      "outputs": [
        {
          "output_type": "stream",
          "name": "stdout",
          "text": [
            "[1 5 9]\n"
          ]
        }
      ]
    },
    {
      "cell_type": "code",
      "metadata": {
        "colab": {
          "base_uri": "https://localhost:8080/"
        },
        "id": "MNsL2iD1YwBX",
        "outputId": "c3d3b185-a544-4725-beec-639e1f41db3f"
      },
      "source": [
        "g = np.empty((0,10))\n",
        "print(g)"
      ],
      "execution_count": 26,
      "outputs": [
        {
          "output_type": "stream",
          "name": "stdout",
          "text": [
            "[]\n"
          ]
        }
      ]
    },
    {
      "cell_type": "code",
      "metadata": {
        "colab": {
          "base_uri": "https://localhost:8080/"
        },
        "id": "vORUleI-Z-6t",
        "outputId": "4ef55b65-66dc-4359-dff1-7d8e36475430"
      },
      "source": [
        "h = np.zeros((2,2))\n",
        "print(h)"
      ],
      "execution_count": 32,
      "outputs": [
        {
          "output_type": "stream",
          "name": "stdout",
          "text": [
            "[[0. 0.]\n",
            " [0. 0.]]\n"
          ]
        }
      ]
    },
    {
      "cell_type": "code",
      "metadata": {
        "colab": {
          "base_uri": "https://localhost:8080/"
        },
        "id": "Pe55uIL_aGpe",
        "outputId": "8a69cab3-e751-4409-c4c2-aee71154eb6b"
      },
      "source": [
        "print(e+h)"
      ],
      "execution_count": 33,
      "outputs": [
        {
          "output_type": "stream",
          "name": "stdout",
          "text": [
            "[[1. 0.]\n",
            " [0. 1.]]\n"
          ]
        }
      ]
    },
    {
      "cell_type": "code",
      "metadata": {
        "id": "jQF89XKga2iT"
      },
      "source": [
        ""
      ],
      "execution_count": null,
      "outputs": []
    }
  ]
}