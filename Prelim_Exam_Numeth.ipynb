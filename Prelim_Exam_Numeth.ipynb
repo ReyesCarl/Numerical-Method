{
  "nbformat": 4,
  "nbformat_minor": 0,
  "metadata": {
    "colab": {
      "name": "Prelim_Exam_Numeth.ipynb",
      "provenance": [],
      "authorship_tag": "ABX9TyPc9HekaMFMuvkmQ+9kWoNl",
      "include_colab_link": true
    },
    "kernelspec": {
      "name": "python3",
      "display_name": "Python 3"
    },
    "language_info": {
      "name": "python"
    }
  },
  "cells": [
    {
      "cell_type": "markdown",
      "metadata": {
        "id": "view-in-github",
        "colab_type": "text"
      },
      "source": [
        "<a href=\"https://colab.research.google.com/github/ReyesCarl/Numerical-Method/blob/main/Prelim_Exam_Numeth.ipynb\" target=\"_parent\"><img src=\"https://colab.research.google.com/assets/colab-badge.svg\" alt=\"Open In Colab\"/></a>"
      ]
    },
    {
      "cell_type": "markdown",
      "metadata": {
        "id": "FAiqTh1nNKVN"
      },
      "source": [
        "#Prelim Exam"
      ]
    },
    {
      "cell_type": "code",
      "metadata": {
        "id": "iudD8fwoNnRi"
      },
      "source": [
        "import numpy as np "
      ],
      "execution_count": 2,
      "outputs": []
    },
    {
      "cell_type": "markdown",
      "metadata": {
        "id": "2PmhUr1TTM0G"
      },
      "source": [
        "$$\\begin{bmatrix} 1 & 2 & 3 \\\\ 2 & 3 & 3 \\\\ 3 & 4 & -2 \\end{bmatrix}$$\n"
      ]
    },
    {
      "cell_type": "code",
      "metadata": {
        "colab": {
          "base_uri": "https://localhost:8080/"
        },
        "id": "WPP-grtHNINx",
        "outputId": "38aee408-8386-465c-c7cb-4e20feb46bbc"
      },
      "source": [
        "A = np.array([[1,2,3],\n",
        "              [2,3,3],\n",
        "              [3,4,-2]\n",
        "              ])\n",
        "A"
      ],
      "execution_count": 3,
      "outputs": [
        {
          "output_type": "execute_result",
          "data": {
            "text/plain": [
              "array([[ 1,  2,  3],\n",
              "       [ 2,  3,  3],\n",
              "       [ 3,  4, -2]])"
            ]
          },
          "metadata": {},
          "execution_count": 3
        }
      ]
    },
    {
      "cell_type": "code",
      "metadata": {
        "colab": {
          "base_uri": "https://localhost:8080/"
        },
        "id": "uRSkekVXNmZs",
        "outputId": "82093be2-2b67-4b58-a2d0-536ea8e744d4"
      },
      "source": [
        "np.linalg.det(A) #code to determine the determinant of the given array\n",
        "print(round(np.linalg.det(A))) #Rounds up the final answer\n"
      ],
      "execution_count": 6,
      "outputs": [
        {
          "output_type": "stream",
          "name": "stdout",
          "text": [
            "5\n"
          ]
        }
      ]
    },
    {
      "cell_type": "code",
      "metadata": {
        "id": "jZyrbiQVQm5-"
      },
      "source": [
        ""
      ],
      "execution_count": null,
      "outputs": []
    }
  ]
}